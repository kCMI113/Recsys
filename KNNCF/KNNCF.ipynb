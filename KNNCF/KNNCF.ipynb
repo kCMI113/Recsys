{
 "cells": [
  {
   "cell_type": "markdown",
   "metadata": {},
   "source": [
    "- 공부하며 이해한 바를 바탕으로 KNN based CF model을 구현한 것입니다. \n",
    "- 코드에 잘못된 부분이 있을 수 있습니다⛔️                            "
   ]
  },
  {
   "cell_type": "code",
   "execution_count": 27,
   "metadata": {},
   "outputs": [],
   "source": [
    "import pandas as pd\n",
    "import numpy as np\n",
    "from tqdm import tqdm\n",
    "import warnings\n",
    "warnings.filterwarnings('ignore')"
   ]
  },
  {
   "cell_type": "markdown",
   "metadata": {},
   "source": [
    "## DATA"
   ]
  },
  {
   "cell_type": "code",
   "execution_count": null,
   "metadata": {},
   "outputs": [],
   "source": [
    "# data = surprise.Dataset.load_builtin('ml-100k', prompt=False)\n",
    "# col_names = [\"userid\", \"itemid\", \"rating\", \"timestamp\"]\n",
    "raw_data = pd.read_csv(\"ratings.csv\")\n",
    "\n",
    "# idx mapping\n",
    "item2idx, idx2item = {}, {}\n",
    "user2idx, idx2user = {}, {}\n",
    "\n",
    "for idx, user_id in enumerate(np.unique(raw_data[\"userId\"])):\n",
    "    user2idx[user_id] = idx\n",
    "    idx2user[idx] = user_id\n",
    "for idx, item_id in enumerate(np.unique(raw_data[\"movieId\"])):\n",
    "    item2idx[item_id] = idx\n",
    "    idx2item[idx] = item_id\n",
    "\n",
    "# make index data\n",
    "index_data = raw_data\n",
    "index_data[\"userId\"] = raw_data[\"userId\"].apply(lambda idx:user2idx[idx])\n",
    "index_data[\"movieId\"] = raw_data[\"movieId\"].apply(lambda idx:item2idx[idx])\n",
    "\n",
    "n_user = np.unique(raw_data[\"userId\"]).shape[0]\n",
    "n_item = np.unique(raw_data[\"movieId\"]).shape[0]\n",
    "\n",
    "shape = (n_user, n_item)\n",
    "rating_matrix = np.zeros(shape)\n",
    "\n",
    "# make rating matrix\n",
    "for user_idx, movie_idx, rating in zip(index_data.userId, index_data.movieId, index_data.rating):\n",
    "    rating_matrix[user_idx][movie_idx] = rating # interaction\n",
    "\n",
    "# prepare side info\n",
    "gen_data = pd.read_csv(\"movies.csv\")\n",
    "id2gen = {}\n",
    "id2title = {}\n",
    "\n",
    "for i in range(gen_data.shape[0]):\n",
    "    item_id = gen_data.movieId[i]\n",
    "    id2gen[item_id] = gen_data.genres[i].split(\"|\")\n",
    "    id2title[item_id] = gen_data.title[i]"
   ]
  },
  {
   "cell_type": "markdown",
   "metadata": {},
   "source": [
    "예측 성능 확인을 위해 임의로 평점 마스킹"
   ]
  },
  {
   "cell_type": "code",
   "execution_count": 46,
   "metadata": {},
   "outputs": [
    {
     "name": "stdout",
     "output_type": "stream",
     "text": [
      "100836\n"
     ]
    }
   ],
   "source": [
    "nzero_indices = np.where(rating_matrix != 0)\n",
    "print(len(rating_matrix[nzero_indices[0], nzero_indices[1]]))\n",
    "\n",
    "np.random.seed(42)\n",
    "test_index = np.random.randint(0, len(rating_matrix[nzero_indices[0], nzero_indices[1]])-1, 100)\n",
    "\n",
    "row = nzero_indices[0]\n",
    "col = nzero_indices[1]\n",
    "\n",
    "row = row[test_index]\n",
    "col = col[test_index]\n",
    "\n",
    "orgin_list = []\n",
    "\n",
    "for i in range(len(row)):\n",
    "    orgin_list.append([row[i], col[i], rating_matrix[row[i]][col[i]]])\n",
    "    rating_matrix[row[i]][col[i]] = 0"
   ]
  },
  {
   "cell_type": "markdown",
   "metadata": {},
   "source": [
    "## Model "
   ]
  },
  {
   "cell_type": "markdown",
   "metadata": {},
   "source": [
    "### BASE module\n",
    "유사도 및 예측 평점 구하는 부분 말고는 다른 부분이 없기 때문에 공통된 부분에 대한 base 모듈 정의"
   ]
  },
  {
   "cell_type": "code",
   "execution_count": 65,
   "metadata": {},
   "outputs": [],
   "source": [
    "class KNN_CF:\n",
    "    def __init__(self, data:np.ndarray, k:int=25, method:str=\"simple\", sim:str=\"cosin\"):\n",
    "        super().__init__()\n",
    "        self.data = data\n",
    "        self.k = k\n",
    "        self.method = method\n",
    "        self.sim = sim\n",
    "        self.n_user = data.shape[0]\n",
    "        self.n_item = data.shape[1]\n",
    "        self.pred_matrix = np.zeros((self.n_user, self.n_item))\n",
    "\n",
    "    # 코사인 유사도\n",
    "    def cos_sim(self,a:np.array, b:np.array) -> float:\n",
    "        return np.dot(a,b)/(np.linalg.norm(a)*np.linalg.norm(b))\n",
    "    \n",
    "    # 유클리드 거리의 역수\n",
    "    def euclidean_sim(self,a:np.array, b:np.array) -> float:\n",
    "        return float(1/(np.sqrt(np.sum((a-b)**2))+ 1e-15))\n",
    "    \n",
    "    def get_sim_matrix(self) -> None:\n",
    "        pass\n",
    "    \n",
    "    def pred_one(self) -> float:\n",
    "        pass\n",
    "    \n",
    "    # 한 유저에 대한 모든 비관측 아이템에 대한 평점 예측\n",
    "    def pred_user(self, u_idx:int) -> None:\n",
    "        for j in range(n_item):\n",
    "            if not self.data[u_idx,j]:\n",
    "                self.pred_matrix[u_idx,j] = self.pred_one(u_idx,j)\n",
    "\n",
    "    # 전체 유저와 전체 아이템에 대한 평점 예측\n",
    "    def pred_full(self) -> np.ndarray:\n",
    "        for i in tqdm(range(n_user)):\n",
    "            for j in range(n_item):\n",
    "                if not self.data[i,j]:\n",
    "                    self.pred_matrix[i,j] = self.pred_one(i,j)\n",
    "        return self.pred_matrix\n",
    "\n",
    "    # 한 유저에 대한 top k item list\n",
    "    def get_top_k(self, u_idx: int, k: int) -> tuple[np.array, np.array]:\n",
    "        self.pred_user(u_idx)\n",
    "        user_pred = self.pred_matrix[u_idx]\n",
    "        item_ranking = sorted(range(len(user_pred)), key=lambda i: user_pred[i], reverse=True)\n",
    "        return (item_ranking[:k], user_pred[item_ranking[:k]])"
   ]
  },
  {
   "cell_type": "markdown",
   "metadata": {},
   "source": [
    "\n",
    "### User based CF\n",
    "1. 유저 - 유저 유사도를 구한다.\n",
    "2. 유사도를 기준으로 k명의 유사 유저를 구한다.\n",
    "3. k명의 유저의 item i에 대한 평점을 simple mean / weighted avg 하여 평점을 예측한다."
   ]
  },
  {
   "cell_type": "code",
   "execution_count": 59,
   "metadata": {},
   "outputs": [],
   "source": [
    "class KNN_UBCF(KNN_CF):\n",
    "    def __init__(self, data:np.ndarray, k:int=25, method:str=\"simple\", sim:str=\"cosin\"):\n",
    "        super().__init__(data, k, method, sim)\n",
    "        self.sim_matrix = np.zeros((self.n_user, self.n_user)) # 유사도 행렬 (user x user)\n",
    "        self.get_sim_matrix()\n",
    "\n",
    "    # 모든 유저 사이의 유사도 계산\n",
    "    def get_sim_matrix(self) -> None:\n",
    "        if self.sim == \"cosin\":\n",
    "            sim_func = self.cos_sim\n",
    "        if self.sim == \"euclid\":\n",
    "            sim_func = self.euclidean_sim\n",
    "\n",
    "        for i in tqdm(range(n_user)):\n",
    "            for j in range(i+1, n_user):\n",
    "                self.sim_matrix[i][j] = sim_func(self.data[i],self.data[j])\n",
    "                self.sim_matrix[j][i] = self.sim_matrix[i][j]\n",
    "\n",
    "        np.fill_diagonal(self.sim_matrix, np.min(self.sim_matrix)-5) # 대각행렬 값 변경\n",
    "        \n",
    "    # 한 유저와 한 아이템에 대한 평점 예측\n",
    "    def pred_one(self, u_idx:int, i_idx:int) -> float:\n",
    "        k_users = []\n",
    "\n",
    "        sims = self.sim_matrix[u_idx] # 한 유저의 유사도 벡터\n",
    "        sim2idx = sorted(range(len(sims)), key=lambda i: sims[i], reverse=True) # 유사도 값 기준으로 정렬된 다른 유저 idx\n",
    "\n",
    "        for idx in sim2idx:\n",
    "            if self.data[idx, i_idx] != 0: # 이웃 유저가 해당 아이템을 평가하지 않은 경우, 이웃 유저로 뽑지 않음\n",
    "                k_users.append(idx)\n",
    "            if len(k_users)==self.k:\n",
    "                break\n",
    "\n",
    "        # 평점 계산 방법 (simple mean / weighted average)\n",
    "        # 이웃 유저(k_users)가 한 아이템에 준 평점을 기준으로 쿼리 유저의 평점 예측\n",
    "        if self.method == \"simple\":\n",
    "            self.pred_matrix[u_idx,i_idx] = np.mean(self.data[k_users, i_idx])\n",
    "        if self.method == \"weighted\":\n",
    "            self.pred_matrix[u_idx,i_idx] = np.dot(sims[k_users], self.data[k_users, i_idx])/np.sum(sims[k_users])\n",
    "\n",
    "        return self.pred_matrix[u_idx,i_idx]"
   ]
  },
  {
   "cell_type": "code",
   "execution_count": 72,
   "metadata": {},
   "outputs": [
    {
     "name": "stderr",
     "output_type": "stream",
     "text": [
      "100%|██████████| 610/610 [00:05<00:00, 113.71it/s]\n"
     ]
    },
    {
     "name": "stdout",
     "output_type": "stream",
     "text": [
      "user: 4, item: 858, pred_rating: 4.6125\n",
      "user: 4\n",
      "top_k_list\n",
      "    - Item:   53  Title: Lamerica (1994)\n",
      "    - Item:   99  Title: Heidi Fleiss: Hollywood Madam (1995)\n",
      "    - Item:  148  Title: Awfully Big Adventure, An (1995)\n",
      "    - Item:  467  Title: Live Nude Girls (1995)\n",
      "    - Item:  495  Title: In the Realm of the Senses (Ai no corrida) (1976)\n",
      "    - Item:  496  Title: What Happened Was... (1994)\n",
      "    - Item:  626  Title: Thin Line Between Love and Hate, A (1996)\n",
      "    - Item:  633  Title: Denise Calls Up (1995)\n",
      "    - Item:  876  Title: Supercop 2 (Project S) (Chao ji ji hua) (1993)\n",
      "    - Item: 1140  Title: Entertaining Angels: The Dorothy Day Story (1996)\n",
      "    - Item: 1151  Title: Lesson Faust (1994)\n",
      "    - Item: 1310  Title: Hype! (1996)\n",
      "    - Item: 1349  Title: Vampire in Venice (Nosferatu a Venezia) (Nosferatu in Venice) (1986)\n",
      "    - Item: 1631  Title: Assignment, The (1997)\n",
      "    - Item: 1759  Title: Four Days in September (O Que É Isso, Companheiro?) (1997)\n"
     ]
    }
   ],
   "source": [
    "u_id = 4\n",
    "i_id = 858\n",
    "top_k = 15\n",
    "n_neighbor = 40\n",
    "\n",
    "model = KNN_UBCF(rating_matrix, n_neighbor, method =\"simple\" ,sim=\"cosin\")\n",
    "# full_matrix_UBCF = model.pred_full()\n",
    "print(f'user: {u_id}, item: {i_id}, pred_rating: {model.pred_one(user2idx[u_id], item2idx[i_id])}')\n",
    "\n",
    "item_list, pred_rating = model.get_top_k(user2idx[u_id], top_k)\n",
    "top_k_list = [(idx2item[idx], id2title[idx2item[idx]]) for idx in item_list]\n",
    "\n",
    "print(f'user: {u_id}\\ntop_k_list')\n",
    "for item_id, title in top_k_list:\n",
    "    print(f'    - Item: {item_id:4}  Title: {title}')"
   ]
  },
  {
   "cell_type": "markdown",
   "metadata": {},
   "source": [
    "### Item based CF\n",
    "1. 아이템 - 아이템 유사도를 구한다.\n",
    "2. 유사도를 기준으로 k개의 유사 아이템을 구한다.\n",
    "3. k개의 아이템에 대한 user u의 평점을 simple mean / weighted avg 하여 평점을 예측한다."
   ]
  },
  {
   "cell_type": "code",
   "execution_count": 70,
   "metadata": {},
   "outputs": [],
   "source": [
    "class KNN_IBCF(KNN_CF):\n",
    "    def __init__(self, data:np.ndarray, k:int=25, method:str=\"simple\", sim:str=\"cosin\"):\n",
    "        super().__init__(data, k, method, sim)\n",
    "        self.sim_matrix = np.zeros((self.n_item, self.n_item)) # 유사도 행렬 (item x item)\n",
    "        self.get_sim_matrix()\n",
    "    \n",
    "    # 모든 아이템 사이의 유사도 계산\n",
    "    def get_sim_matrix(self) -> None:\n",
    "        if self.sim == \"cosin\":\n",
    "            sim_func = self.cos_sim\n",
    "        if self.sim == \"euclid\":\n",
    "            sim_func = self.euclidean_sim\n",
    "\n",
    "        for i in tqdm(range(n_item)):\n",
    "            for j in range(i+1, n_item):\n",
    "                self.sim_matrix[i][j] = sim_func(self.data[:, i],self.data[:, j])\n",
    "                self.sim_matrix[j][i] = self.sim_matrix[i][j]\n",
    "        \n",
    "        np.fill_diagonal(self.sim_matrix, np.min(self.sim_matrix)-5)\n",
    "        \n",
    "    # 한 유저와 한 아이템에 대한 평점 예측\n",
    "    def pred_one(self, u_idx:int, i_idx:int) -> float:\n",
    "        k_items = []\n",
    "\n",
    "        sims = self.sim_matrix[i_idx] # 한 아이템의 유사도 벡터\n",
    "        sim2idx = sorted(range(len(sims)), key=lambda i: sims[i], reverse=True) # 유사도 기준으로 정렬된 타 아이템 idx\n",
    "\n",
    "        for idx in sim2idx:\n",
    "            if self.data[u_idx, idx] != 0: # 쿼리 유저에게 평가되지 않은 아이템은 제외\n",
    "                k_items.append(idx)\n",
    "            if len(k_items)==self.k:\n",
    "                break\n",
    "\n",
    "        # 평점 계산 방법 (simple mean / weighted average)\n",
    "        # 이웃 아이템(k_items)의 평점을 기반으로 쿼리 유저의 쿼리 아이템에 대한 평점 예측\n",
    "        if self.method == \"simple\":\n",
    "            self.pred_matrix[u_idx,i_idx] = np.mean(self.data[u_idx, k_items])\n",
    "        if self.method == \"weighted\":\n",
    "            self.pred_matrix[u_idx,i_idx] = np.dot(sims[k_items], self.data[u_idx, k_items])/np.sum(sims[k_items])\n",
    "                    \n",
    "        return self.pred_matrix[u_idx,i_idx]"
   ]
  },
  {
   "cell_type": "code",
   "execution_count": 71,
   "metadata": {},
   "outputs": [
    {
     "name": "stderr",
     "output_type": "stream",
     "text": [
      " 25%|██▌       | 2431/9724 [03:28<10:26, 11.65it/s]\n"
     ]
    },
    {
     "ename": "KeyboardInterrupt",
     "evalue": "",
     "output_type": "error",
     "traceback": [
      "\u001b[0;31m---------------------------------------------------------------------------\u001b[0m",
      "\u001b[0;31mKeyboardInterrupt\u001b[0m                         Traceback (most recent call last)",
      "\u001b[1;32m/Users/kcm/study/Recsys/KNNCF/KNNCF.ipynb Cell 15\u001b[0m line \u001b[0;36m6\n\u001b[1;32m      <a href='vscode-notebook-cell:/Users/kcm/study/Recsys/KNNCF/KNNCF.ipynb#X16sZmlsZQ%3D%3D?line=2'>3</a>\u001b[0m top_k \u001b[39m=\u001b[39m \u001b[39m15\u001b[39m\n\u001b[1;32m      <a href='vscode-notebook-cell:/Users/kcm/study/Recsys/KNNCF/KNNCF.ipynb#X16sZmlsZQ%3D%3D?line=3'>4</a>\u001b[0m n_neighbor \u001b[39m=\u001b[39m \u001b[39m40\u001b[39m\n\u001b[0;32m----> <a href='vscode-notebook-cell:/Users/kcm/study/Recsys/KNNCF/KNNCF.ipynb#X16sZmlsZQ%3D%3D?line=5'>6</a>\u001b[0m model \u001b[39m=\u001b[39m KNN_IBCF(rating_matrix, n_neighbor, method \u001b[39m=\u001b[39;49m\u001b[39m\"\u001b[39;49m\u001b[39msimple\u001b[39;49m\u001b[39m\"\u001b[39;49m ,sim\u001b[39m=\u001b[39;49m\u001b[39m\"\u001b[39;49m\u001b[39mcosin\u001b[39;49m\u001b[39m\"\u001b[39;49m)\n\u001b[1;32m      <a href='vscode-notebook-cell:/Users/kcm/study/Recsys/KNNCF/KNNCF.ipynb#X16sZmlsZQ%3D%3D?line=6'>7</a>\u001b[0m \u001b[39m# full_matrix_IBCF = model.pred_full()\u001b[39;00m\n\u001b[1;32m      <a href='vscode-notebook-cell:/Users/kcm/study/Recsys/KNNCF/KNNCF.ipynb#X16sZmlsZQ%3D%3D?line=7'>8</a>\u001b[0m \u001b[39mprint\u001b[39m(\u001b[39mf\u001b[39m\u001b[39m'\u001b[39m\u001b[39muser: \u001b[39m\u001b[39m{\u001b[39;00mu_id\u001b[39m}\u001b[39;00m\u001b[39m, item: \u001b[39m\u001b[39m{\u001b[39;00mi_id\u001b[39m}\u001b[39;00m\u001b[39m, pred_rating: \u001b[39m\u001b[39m{\u001b[39;00mmodel\u001b[39m.\u001b[39mpred_one(user2idx[u_id],\u001b[39m \u001b[39mitem2idx[i_id])\u001b[39m}\u001b[39;00m\u001b[39m'\u001b[39m)\n",
      "\u001b[1;32m/Users/kcm/study/Recsys/KNNCF/KNNCF.ipynb Cell 15\u001b[0m line \u001b[0;36m5\n\u001b[1;32m      <a href='vscode-notebook-cell:/Users/kcm/study/Recsys/KNNCF/KNNCF.ipynb#X16sZmlsZQ%3D%3D?line=2'>3</a>\u001b[0m \u001b[39msuper\u001b[39m()\u001b[39m.\u001b[39m\u001b[39m__init__\u001b[39m(data, k, method, sim)\n\u001b[1;32m      <a href='vscode-notebook-cell:/Users/kcm/study/Recsys/KNNCF/KNNCF.ipynb#X16sZmlsZQ%3D%3D?line=3'>4</a>\u001b[0m \u001b[39mself\u001b[39m\u001b[39m.\u001b[39msim_matrix \u001b[39m=\u001b[39m np\u001b[39m.\u001b[39mzeros((\u001b[39mself\u001b[39m\u001b[39m.\u001b[39mn_item, \u001b[39mself\u001b[39m\u001b[39m.\u001b[39mn_item)) \u001b[39m# 유사도 행렬 (item x item)\u001b[39;00m\n\u001b[0;32m----> <a href='vscode-notebook-cell:/Users/kcm/study/Recsys/KNNCF/KNNCF.ipynb#X16sZmlsZQ%3D%3D?line=4'>5</a>\u001b[0m \u001b[39mself\u001b[39;49m\u001b[39m.\u001b[39;49mget_sim_matrix()\n",
      "\u001b[1;32m/Users/kcm/study/Recsys/KNNCF/KNNCF.ipynb Cell 15\u001b[0m line \u001b[0;36m1\n\u001b[1;32m     <a href='vscode-notebook-cell:/Users/kcm/study/Recsys/KNNCF/KNNCF.ipynb#X16sZmlsZQ%3D%3D?line=13'>14</a>\u001b[0m \u001b[39mfor\u001b[39;00m i \u001b[39min\u001b[39;00m tqdm(\u001b[39mrange\u001b[39m(n_item)):\n\u001b[1;32m     <a href='vscode-notebook-cell:/Users/kcm/study/Recsys/KNNCF/KNNCF.ipynb#X16sZmlsZQ%3D%3D?line=14'>15</a>\u001b[0m     \u001b[39mfor\u001b[39;00m j \u001b[39min\u001b[39;00m \u001b[39mrange\u001b[39m(i\u001b[39m+\u001b[39m\u001b[39m1\u001b[39m, n_item):\n\u001b[0;32m---> <a href='vscode-notebook-cell:/Users/kcm/study/Recsys/KNNCF/KNNCF.ipynb#X16sZmlsZQ%3D%3D?line=15'>16</a>\u001b[0m         \u001b[39mself\u001b[39m\u001b[39m.\u001b[39msim_matrix[i][j] \u001b[39m=\u001b[39m sim_func(\u001b[39mself\u001b[39;49m\u001b[39m.\u001b[39;49mdata[:, i],\u001b[39mself\u001b[39;49m\u001b[39m.\u001b[39;49mdata[:, j])\n\u001b[1;32m     <a href='vscode-notebook-cell:/Users/kcm/study/Recsys/KNNCF/KNNCF.ipynb#X16sZmlsZQ%3D%3D?line=16'>17</a>\u001b[0m         \u001b[39mself\u001b[39m\u001b[39m.\u001b[39msim_matrix[j][i] \u001b[39m=\u001b[39m \u001b[39mself\u001b[39m\u001b[39m.\u001b[39msim_matrix[i][j]\n\u001b[1;32m     <a href='vscode-notebook-cell:/Users/kcm/study/Recsys/KNNCF/KNNCF.ipynb#X16sZmlsZQ%3D%3D?line=18'>19</a>\u001b[0m np\u001b[39m.\u001b[39mfill_diagonal(\u001b[39mself\u001b[39m\u001b[39m.\u001b[39msim_matrix, np\u001b[39m.\u001b[39mmin(\u001b[39mself\u001b[39m\u001b[39m.\u001b[39msim_matrix)\u001b[39m-\u001b[39m\u001b[39m5\u001b[39m)\n",
      "\u001b[1;32m/Users/kcm/study/Recsys/KNNCF/KNNCF.ipynb Cell 15\u001b[0m line \u001b[0;36m1\n\u001b[1;32m     <a href='vscode-notebook-cell:/Users/kcm/study/Recsys/KNNCF/KNNCF.ipynb#X16sZmlsZQ%3D%3D?line=12'>13</a>\u001b[0m \u001b[39mdef\u001b[39;00m \u001b[39mcos_sim\u001b[39m(\u001b[39mself\u001b[39m,a:np\u001b[39m.\u001b[39marray, b:np\u001b[39m.\u001b[39marray) \u001b[39m-\u001b[39m\u001b[39m>\u001b[39m \u001b[39mfloat\u001b[39m:\n\u001b[0;32m---> <a href='vscode-notebook-cell:/Users/kcm/study/Recsys/KNNCF/KNNCF.ipynb#X16sZmlsZQ%3D%3D?line=13'>14</a>\u001b[0m     \u001b[39mreturn\u001b[39;00m np\u001b[39m.\u001b[39mdot(a,b)\u001b[39m/\u001b[39m(np\u001b[39m.\u001b[39mlinalg\u001b[39m.\u001b[39mnorm(a)\u001b[39m*\u001b[39mnp\u001b[39m.\u001b[39;49mlinalg\u001b[39m.\u001b[39;49mnorm(b))\n",
      "File \u001b[0;32m~/anaconda3/envs/sequential/lib/python3.10/site-packages/numpy/linalg/linalg.py:2553\u001b[0m, in \u001b[0;36mnorm\u001b[0;34m(x, ord, axis, keepdims)\u001b[0m\n\u001b[1;32m   2551\u001b[0m \u001b[39melse\u001b[39;00m:\n\u001b[1;32m   2552\u001b[0m     sqnorm \u001b[39m=\u001b[39m x\u001b[39m.\u001b[39mdot(x)\n\u001b[0;32m-> 2553\u001b[0m ret \u001b[39m=\u001b[39m sqrt(sqnorm)\n\u001b[1;32m   2554\u001b[0m \u001b[39mif\u001b[39;00m keepdims:\n\u001b[1;32m   2555\u001b[0m     ret \u001b[39m=\u001b[39m ret\u001b[39m.\u001b[39mreshape(ndim\u001b[39m*\u001b[39m[\u001b[39m1\u001b[39m])\n",
      "\u001b[0;31mKeyboardInterrupt\u001b[0m: "
     ]
    }
   ],
   "source": [
    "u_id = 4\n",
    "i_id = 14\n",
    "top_k = 15\n",
    "n_neighbor = 40\n",
    "\n",
    "model = KNN_IBCF(rating_matrix, n_neighbor, method =\"simple\" ,sim=\"cosin\")\n",
    "# full_matrix_IBCF = model.pred_full()\n",
    "print(f'user: {u_id}, item: {i_id}, pred_rating: {model.pred_one(user2idx[u_id], item2idx[i_id])}')\n",
    "\n",
    "item_list, pred_rating = model.get_top_k(user2idx[u_id], top_k)\n",
    "top_k_list = [(idx2item[idx], id2title[idx2item[idx]]) for idx in item_list]\n",
    "\n",
    "print(f'user: {u_id}\\ntop_k_list')\n",
    "for item_id, title in top_k_list:\n",
    "    print(f'    - Item: {item_id:4}  Title: {title}')"
   ]
  },
  {
   "cell_type": "markdown",
   "metadata": {},
   "source": [
    "### Item based CF with side info\n",
    "- item에 대한 side info인 장르를 유사도 구할 때 활용\n",
    "- 유사도 외에는 IBCF와 차이 없음\n",
    "- 유사도 구하는 방법\n",
    "    1. 자카드 유사도\n",
    "    2. 장르 원-핫인코딩 후 코사인 유사도"
   ]
  },
  {
   "cell_type": "code",
   "execution_count": 5,
   "metadata": {},
   "outputs": [],
   "source": [
    "class KNN_SIBCF(KNN_CF):\n",
    "    def __init__(self, data:np.ndarray, gen_info:dict, k:int=25, method:str=\"simple\", sim:str=\"cosin\"):\n",
    "        super().__init__(data, k, method, sim)\n",
    "        self.gen_info = gen_info\n",
    "        self.sim_matrix = np.zeros((self.n_item, self.n_item))\n",
    "        self.get_sim_matrix()\n",
    "    \n",
    "    # 장르 유사도 계산을 위한 자카드 유사도\n",
    "    def jaccard_sim(self,a, b):\n",
    "        a = set(a)\n",
    "        b = set(b)\n",
    "        return float(len(a.intersection(b)) / len(a.union(b)))\n",
    "    \n",
    "    # 모든 아이템 사이의 유사도 계산\n",
    "    def get_sim_matrix(self) -> None:\n",
    "        if self.sim == \"cosin\":\n",
    "            sim_func = self.cos_sim\n",
    "        if self.sim == \"euclid\":\n",
    "            sim_func = self.euclidean_sim\n",
    "\n",
    "        for i in tqdm(range(n_item)):\n",
    "            for j in range(i+1, n_item):\n",
    "                # IBCF와 다르게 장르의 자카드 유사도 추가됨\n",
    "                gen_sim = self.jaccard_sim(self.gen_info[i], self.gen_info[j])\n",
    "                self.sim_matrix[i][j] = sim_func(self.data[:, i],self.data[:, j]) + gen_sim\n",
    "                self.sim_matrix[j][i] = self.sim_matrix[i][j]\n",
    "        \n",
    "        np.fill_diagonal(self.sim_matrix, np.min(self.sim_matrix)-5)\n",
    "\n",
    "    # 한 유저와 한 아이템에 대한 평점 예측\n",
    "    def pred_one(self, u_idx:int, i_idx:int) -> float:\n",
    "        k_items = []\n",
    "\n",
    "        sims = self.sim_matrix[i_idx]\n",
    "        sim2idx = sorted(range(len(sims)), key=lambda i: sims[i], reverse=True)\n",
    "\n",
    "        for idx in sim2idx:\n",
    "            if self.data[u_idx, idx] != 0:\n",
    "                k_items.append(idx)\n",
    "            if len(k_items)==self.k:\n",
    "                break\n",
    "\n",
    "        # 평점 계산 방법 (simple mean / weighted average)\n",
    "        if self.method == \"simple\":\n",
    "            self.pred_matrix[u_idx,i_idx] = np.mean(self.data[u_idx, k_items])\n",
    "        if self.method == \"weighted\":\n",
    "            self.pred_matrix[u_idx,i_idx] = np.dot(sims[k_items], self.data[u_idx, k_items])/np.sum(sims[k_items])\n",
    "\n",
    "        return self.pred_matrix[u_idx,i_idx]"
   ]
  },
  {
   "cell_type": "code",
   "execution_count": 7,
   "metadata": {},
   "outputs": [
    {
     "name": "stderr",
     "output_type": "stream",
     "text": [
      "100%|██████████| 1682/1682 [00:18<00:00, 88.55it/s] \n",
      "100%|██████████| 943/943 [17:48<00:00,  1.13s/it]"
     ]
    },
    {
     "name": "stdout",
     "output_type": "stream",
     "text": [
      "user:4, item:14, pred_rating:4.335331349731403\n",
      "user:4\n",
      "top_k_list:[1251 1654 1532 1642  341 1652 1431 1357 1678 1679  914 1395 1243 1120\n",
      " 1680]\n"
     ]
    },
    {
     "name": "stderr",
     "output_type": "stream",
     "text": [
      "\n"
     ]
    }
   ],
   "source": [
    "u_id = 4\n",
    "i_id = 14\n",
    "top_k = 15\n",
    "n_neighbor = 40\n",
    "\n",
    "model = KNN_SIBCF(rating_matrix, id2gen, n_neighbor, method =\"simple\" ,sim=\"cosin\")\n",
    "# full_matrix_SIBCF = model.pred_full()\n",
    "print(f'user: {u_id}, item: {i_id}, pred_rating: {model.pred_one(user2idx[u_id], item2idx[i_id])}')\n",
    "\n",
    "item_list, pred_rating = model.get_top_k(user2idx[u_id], top_k)\n",
    "top_k_list = [(idx2item[idx], id2title[idx2item[idx]]) for idx in item_list]\n",
    "\n",
    "print(f'user: {u_id}\\ntop_k_list')\n",
    "for item_id, title in top_k_list:\n",
    "    print(f'    - Item: {item_id:4}  Title: {title}')\n"
   ]
  },
  {
   "cell_type": "markdown",
   "metadata": {},
   "source": [
    "모델에 따른 RMSE 비교"
   ]
  },
  {
   "cell_type": "code",
   "execution_count": 13,
   "metadata": {},
   "outputs": [],
   "source": [
    "from sklearn.metrics import mean_squared_error\n",
    "\n",
    "def rmse(actual, pred):\n",
    "    return np.sqrt(mean_squared_error(actual, pred))\n",
    "\n",
    "actual = np.array([ele[-1] for ele in orgin_list])\n"
   ]
  },
  {
   "cell_type": "code",
   "execution_count": null,
   "metadata": {},
   "outputs": [],
   "source": [
    "pred_UBCF = []\n",
    "pred_IBCF = []\n",
    "pred_SIBCF = []\n",
    "\n",
    "for row, col, rating in orgin_list:\n",
    "    pred_UBCF.append(full_matrix_UBCF[row][col])\n",
    "    pred_IBCF.append(full_matrix_IBCF[row][col])\n",
    "    pred_SIBCF.append(full_matrix_SIBCF[row][col])\n",
    "\n",
    "print(f'UBCF rmse : {rmse(actual,pred_UBCF)}')\n",
    "print(f'IBCF rmse : {rmse(actual,pred_IBCF)}')\n",
    "print(f'SIBCF rmse : {rmse(actual,pred_SIBCF)}')"
   ]
  },
  {
   "cell_type": "markdown",
   "metadata": {},
   "source": [
    "n_neighbor 개수에 따른 RMSE 비교"
   ]
  },
  {
   "cell_type": "code",
   "execution_count": 8,
   "metadata": {},
   "outputs": [
    {
     "name": "stderr",
     "output_type": "stream",
     "text": [
      "100%|██████████| 1682/1682 [00:18<00:00, 90.15it/s] \n",
      "100%|██████████| 943/943 [17:04<00:00,  1.09s/it]\n"
     ]
    },
    {
     "name": "stdout",
     "output_type": "stream",
     "text": [
      "user:4\n",
      "top_k_list:[1251 1654 1532 1642  341 1652 1431 1357 1678 1679  914 1395 1243 1120\n",
      " 1680]\n"
     ]
    },
    {
     "name": "stderr",
     "output_type": "stream",
     "text": [
      "100%|██████████| 1682/1682 [00:18<00:00, 89.87it/s] \n",
      "100%|██████████| 943/943 [18:27<00:00,  1.17s/it]"
     ]
    },
    {
     "name": "stdout",
     "output_type": "stream",
     "text": [
      "user:4\n",
      "top_k_list:[1251 1654 1532 1642  341 1652 1431 1357 1678 1679  914 1395 1243 1120\n",
      " 1680]\n"
     ]
    },
    {
     "name": "stderr",
     "output_type": "stream",
     "text": [
      "\n"
     ]
    }
   ],
   "source": [
    "u_id = 4\n",
    "i_id = 14\n",
    "top_k = 15\n",
    "n_neighbor = 30\n",
    "\n",
    "model = KNN_SIBCF(rating_matrix, id2gen, n_neighbor, method =\"simple\" ,sim=\"cosin\")\n",
    "full_matrix_SIBCF_30 = model.pred_full()\n",
    "print(f'user: {u_id}, item: {i_id}, pred_rating: {model.pred_one(user2idx[u_id], item2idx[i_id])}')\n",
    "\n",
    "item_list, pred_rating = model.get_top_k(user2idx[u_id], top_k)\n",
    "top_k_list = [(idx2item[idx], id2title[idx2item[idx]]) for idx in item_list]\n",
    "\n",
    "print(f'user: {u_id}\\ntop_k_list')\n",
    "for item_id, title in top_k_list:\n",
    "    print(f'    - Item: {item_id:4}  Title: {title}')\n",
    "#######################################################\n",
    "\n",
    "n_neighbor = 50\n",
    "\n",
    "model = KNN_SIBCF(rating_matrix, id2gen, n_neighbor, method =\"simple\" ,sim=\"cosin\")\n",
    "full_matrix_SIBCF_50 = model.pred_full()\n",
    "print(f'user: {u_id}, item: {i_id}, pred_rating: {model.pred_one(user2idx[u_id], item2idx[i_id])}')\n",
    "\n",
    "item_list, pred_rating = model.get_top_k(user2idx[u_id], top_k)\n",
    "top_k_list = [(idx2item[idx], id2title[idx2item[idx]]) for idx in item_list]\n",
    "\n",
    "print(f'user: {u_id}\\ntop_k_list')\n",
    "for item_id, title in top_k_list:\n",
    "    print(f'    - Item: {item_id:4}  Title: {title}')\n"
   ]
  },
  {
   "cell_type": "code",
   "execution_count": 14,
   "metadata": {},
   "outputs": [
    {
     "name": "stdout",
     "output_type": "stream",
     "text": [
      "SIBCF_50 rmse : 0.9941878159483233\n"
     ]
    },
    {
     "ename": "NameError",
     "evalue": "name 'pred_SIBCF' is not defined",
     "output_type": "error",
     "traceback": [
      "\u001b[0;31m---------------------------------------------------------------------------\u001b[0m",
      "\u001b[0;31mNameError\u001b[0m                                 Traceback (most recent call last)",
      "\u001b[1;32m/Users/kcm/study/Recsys/KNNCF/KNNCF.ipynb Cell 24\u001b[0m line \u001b[0;36m9\n\u001b[1;32m      <a href='vscode-notebook-cell:/Users/kcm/study/Recsys/KNNCF/KNNCF.ipynb#X30sZmlsZQ%3D%3D?line=5'>6</a>\u001b[0m     pred_SIBCF_50\u001b[39m.\u001b[39mappend(full_matrix_SIBCF_50[row][col])\n\u001b[1;32m      <a href='vscode-notebook-cell:/Users/kcm/study/Recsys/KNNCF/KNNCF.ipynb#X30sZmlsZQ%3D%3D?line=7'>8</a>\u001b[0m \u001b[39mprint\u001b[39m(\u001b[39mf\u001b[39m\u001b[39m'\u001b[39m\u001b[39mSIBCF_50 rmse : \u001b[39m\u001b[39m{\u001b[39;00mrmse(actual,pred_SIBCF_50)\u001b[39m}\u001b[39;00m\u001b[39m'\u001b[39m)\n\u001b[0;32m----> <a href='vscode-notebook-cell:/Users/kcm/study/Recsys/KNNCF/KNNCF.ipynb#X30sZmlsZQ%3D%3D?line=8'>9</a>\u001b[0m \u001b[39mprint\u001b[39m(\u001b[39mf\u001b[39m\u001b[39m'\u001b[39m\u001b[39mSIBCF_40 rmse : \u001b[39m\u001b[39m{\u001b[39;00mrmse(actual,pred_SIBCF)\u001b[39m}\u001b[39;00m\u001b[39m'\u001b[39m)\n\u001b[1;32m     <a href='vscode-notebook-cell:/Users/kcm/study/Recsys/KNNCF/KNNCF.ipynb#X30sZmlsZQ%3D%3D?line=9'>10</a>\u001b[0m \u001b[39mprint\u001b[39m(\u001b[39mf\u001b[39m\u001b[39m'\u001b[39m\u001b[39mSIBCF_30 rmse : \u001b[39m\u001b[39m{\u001b[39;00mrmse(actual,pred_SIBCF_30)\u001b[39m}\u001b[39;00m\u001b[39m'\u001b[39m)\n",
      "\u001b[0;31mNameError\u001b[0m: name 'pred_SIBCF' is not defined"
     ]
    }
   ],
   "source": [
    "pred_SIBCF_30 = []\n",
    "pred_SIBCF_50 = []\n",
    "\n",
    "for row, col, rating in orgin_list:\n",
    "    pred_SIBCF_30.append(full_matrix_SIBCF_30[row][col])\n",
    "    pred_SIBCF_50.append(full_matrix_SIBCF_50[row][col])\n",
    "\n",
    "print(f'SIBCF_50 rmse : {rmse(actual,pred_SIBCF_50)}')\n",
    "print(f'SIBCF_40 rmse : {rmse(actual,pred_SIBCF)}')\n",
    "print(f'SIBCF_30 rmse : {rmse(actual,pred_SIBCF_30)}')\n"
   ]
  }
 ],
 "metadata": {
  "kernelspec": {
   "display_name": "sequential",
   "language": "python",
   "name": "python3"
  },
  "language_info": {
   "codemirror_mode": {
    "name": "ipython",
    "version": 3
   },
   "file_extension": ".py",
   "mimetype": "text/x-python",
   "name": "python",
   "nbconvert_exporter": "python",
   "pygments_lexer": "ipython3",
   "version": "3.10.11"
  },
  "orig_nbformat": 4
 },
 "nbformat": 4,
 "nbformat_minor": 2
}
